{
  "cells": [
    {
      "cell_type": "code",
      "execution_count": 1,
      "metadata": {
        "id": "PJaTM-Xx7xuP"
      },
      "outputs": [],
      "source": [
        "import numpy as np\n",
        "import math\n",
        "import random\n",
        "import uuid "
      ]
    },
    {
      "cell_type": "code",
      "execution_count": 6,
      "metadata": {
        "id": "__UzHkOL6abv"
      },
      "outputs": [],
      "source": [
        "class Node: \n",
        "    def __init__(self, id, latitude, longitude): \n",
        "        self.id = id\n",
        "        self.latitude = latitude\n",
        "        self.longitude = longitude\n",
        "\n",
        "    def distance_to(self, second_node):\n",
        "        '''Haversine formula for geodesic distance\n",
        "        a = sin²(Δφ/2) + cos φ1 ⋅ cos φ2 ⋅ sin²(Δλ/2)\n",
        "        c = 2 ⋅ atan2( √a, √(1−a) )\n",
        "        d = (Earth Radius) ⋅ c\n",
        "        '''\n",
        "        R = 6371e3 #m\n",
        "        lat1 = self.latitude * np.pi/180; #rad\n",
        "        lat2 = second_node.latitude * np.pi/180; #rad\n",
        "        delta_lat = (second_node.latitude - self.latitude) * np.pi/180;\n",
        "        delta_long = (self.longitude - second_node.longitude) * np.pi/180;\n",
        "        a = (np.sin(delta_lat/2))**2 + np.cos(lat1) * np.cos(lat2) * np.sin(delta_long/2) * np.sin(delta_long/2)\n",
        "        c = 2 * np.arctan2(a**0.5, (1-a)**0.5)\n",
        "        d = R * c #m\n",
        "        return d\n",
        "\n",
        "class KNN: \n",
        "    def __init__(self, weather_stations, pm_stations, radius):\n",
        "        self.weather_stations = weather_stations\n",
        "        self.pm_stations = pm_stations\n",
        "        self.radius = radius\n",
        "\n",
        "    def get_neighbours(self, pm_station):\n",
        "        nearest_weather_stations = list()\n",
        "        for ws in self.weather_stations:\n",
        "            dist = pm_station.distance_to(ws)\n",
        "            if dist <= self.radius: \n",
        "                nearest_weather_stations.append({'id':ws.id, 'dist':dist})\n",
        "        return nearest_weather_stations\n",
        "    \n",
        "    def find_corresponding_weather_stations(self, prune_val = None):\n",
        "        pm_station_neighbours = {}\n",
        "        for pms in self.pm_stations: \n",
        "            nearest_weather_stations = self.get_neighbours(pms)\n",
        "            if prune_val != None: \n",
        "                nearest_weather_stations.sort(key=lambda dic: dic['dist'])\n",
        "                nearest_weather_stations = nearest_weather_stations[:prune_val]\n",
        "            pm_station_neighbours[pms.id] = nearest_weather_stations\n",
        "\n",
        "            distances = [nws['dist'] for nws in nearest_weather_stations]\n",
        "            distance_weights = [float(i)/sum(distances) for i in distances]\n",
        "            for i,nws in enumerate(nearest_weather_stations):\n",
        "                nws['weight'] = distance_weights[i]\n",
        "        return pm_station_neighbours\n",
        "\n",
        "\n",
        "            \n",
        "\n",
        "\n",
        "\n",
        "    \n",
        "\n"
      ]
    },
    {
      "cell_type": "code",
      "execution_count": 7,
      "metadata": {
        "id": "fYMvAVhe9cjt"
      },
      "outputs": [],
      "source": [
        "#test with random latitude longitude\n",
        "def randlatlon1():\n",
        "    pi = math.pi\n",
        "    cf = 180.0 / pi  # radians to degrees Correction Factor\n",
        "\n",
        "    # get a random Gaussian 3D vector:\n",
        "    gx = random.gauss(0.0, 1.0)\n",
        "    gy = random.gauss(0.0, 1.0)\n",
        "    gz = random.gauss(0.0, 1.0)\n",
        "\n",
        "    # normalize to an equidistributed (x,y,z) point on the unit sphere:\n",
        "    norm2 = gx*gx + gy*gy + gz*gz\n",
        "    norm1 = 1.0 / math.sqrt(norm2)\n",
        "    x = gx * norm1\n",
        "    y = gy * norm1\n",
        "    z = gz * norm1\n",
        "\n",
        "    radLat = math.asin(z)      # latitude  in radians\n",
        "    radLon = math.atan2(y,x)   # longitude in radians\n",
        "\n",
        "    return (round(cf*radLat, 5), round(cf*radLon, 5))"
      ]
    },
    {
      "cell_type": "code",
      "execution_count": 8,
      "metadata": {
        "id": "Am9NsAUzAhjT"
      },
      "outputs": [],
      "source": [
        "weather_stations = []\n",
        "for _ in range(100): \n",
        "    info = randlatlon1()\n",
        "    id = uuid.uuid4().hex[:6].upper()\n",
        "    node = Node(id = id, latitude = info[0], longitude = info[1])\n",
        "    weather_stations.append(node)\n",
        "\n",
        "pm_stations = []\n",
        "for _ in range(10): \n",
        "    info = randlatlon1()\n",
        "    id = uuid.uuid4().hex[:6].upper()\n",
        "    node = Node(id = id, latitude = info[0], longitude = info[1])\n",
        "    pm_stations.append(node)\n"
      ]
    },
    {
      "cell_type": "code",
      "execution_count": 9,
      "metadata": {
        "id": "hcPWkPipFYRg"
      },
      "outputs": [],
      "source": [
        "knn = KNN(weather_stations, pm_stations, radius = 10e6)"
      ]
    },
    {
      "cell_type": "code",
      "execution_count": 10,
      "metadata": {
        "id": "L6lnji3qG41V"
      },
      "outputs": [],
      "source": [
        "pm_station_neighbours = knn.find_corresponding_weather_stations(prune_val = 5)"
      ]
    },
    {
      "cell_type": "code",
      "execution_count": 11,
      "metadata": {
        "colab": {
          "base_uri": "https://localhost:8080/"
        },
        "id": "cvHBWTl0HW5o",
        "outputId": "c1c6e992-a612-4476-acd6-0e71c95bcde1"
      },
      "outputs": [
        {
          "data": {
            "text/plain": [
              "{'ED4C30': [{'id': 'BC1D6C',\n",
              "   'dist': 940399.4854654656,\n",
              "   'weight': 0.08443816369204335},\n",
              "  {'id': '4A44D1', 'dist': 1078265.7503423057, 'weight': 0.09681713073871208},\n",
              "  {'id': 'C13D34', 'dist': 2989709.2582843336, 'weight': 0.26844502112597196},\n",
              "  {'id': '0B986C', 'dist': 3040340.6653921353, 'weight': 0.2729911986892348},\n",
              "  {'id': '3D997F', 'dist': 3088422.8874209644, 'weight': 0.2773084857540378}],\n",
              " '289BDF': [{'id': 'EC1DA1',\n",
              "   'dist': 283278.3185879941,\n",
              "   'weight': 0.03588470767338549},\n",
              "  {'id': 'B23ACD', 'dist': 1329175.0623685415, 'weight': 0.1683752529935785},\n",
              "  {'id': '6FCB20', 'dist': 1762367.9267086328, 'weight': 0.22325061154740306},\n",
              "  {'id': '95D5DF', 'dist': 2174608.8416930577, 'weight': 0.27547185035933097},\n",
              "  {'id': 'C2F742', 'dist': 2344693.474730603, 'weight': 0.2970175774263019}],\n",
              " '00979C': [{'id': 'EB0749',\n",
              "   'dist': 789175.600227377,\n",
              "   'weight': 0.05891969679550183},\n",
              "  {'id': '68321B', 'dist': 2391293.647459819, 'weight': 0.17853351854358873},\n",
              "  {'id': '84830A', 'dist': 3262569.4994972763, 'weight': 0.24358280416835815},\n",
              "  {'id': '47EB3F', 'dist': 3402012.0100516393, 'weight': 0.25399355488074643},\n",
              "  {'id': '7C502C', 'dist': 3549037.1819201866, 'weight': 0.2649704256118049}],\n",
              " 'F406BA': [{'id': 'CF9ABD',\n",
              "   'dist': 579422.0176125354,\n",
              "   'weight': 0.053839475909258847},\n",
              "  {'id': '5F7BFD', 'dist': 1559189.5693260944, 'weight': 0.14487877005708702},\n",
              "  {'id': 'E0B436', 'dist': 1971668.4959199794, 'weight': 0.18320601437364467},\n",
              "  {'id': '085D75', 'dist': 3052424.1378726508, 'weight': 0.28362904901851865},\n",
              "  {'id': 'AC8A3C', 'dist': 3599325.0863350704, 'weight': 0.3344466906414908}],\n",
              " '472764': [{'id': '57EEDC',\n",
              "   'dist': 836463.8754623827,\n",
              "   'weight': 0.08284387803159686},\n",
              "  {'id': '58DD34', 'dist': 1957511.934051176, 'weight': 0.19387314224453187},\n",
              "  {'id': '28AA82', 'dist': 2016200.229733487, 'weight': 0.1996856658358227},\n",
              "  {'id': 'EFB01D', 'dist': 2220765.5044633118, 'weight': 0.2199459318991356},\n",
              "  {'id': '9F14F2', 'dist': 3065928.5610830635, 'weight': 0.30365138198891306}],\n",
              " '4542EE': [{'id': 'EC1DA1',\n",
              "   'dist': 1157743.1658510498,\n",
              "   'weight': 0.1335035957285248},\n",
              "  {'id': 'C2F742', 'dist': 1609793.2013717233, 'weight': 0.18563113745912455},\n",
              "  {'id': '6FCB20', 'dist': 1686236.7297507017, 'weight': 0.19444612009930895},\n",
              "  {'id': '475465', 'dist': 1715683.2345913916, 'weight': 0.197841704192418},\n",
              "  {'id': 'B23ACD', 'dist': 2502543.546290729, 'weight': 0.28857744252062373}],\n",
              " 'C9DD2D': [{'id': '385530',\n",
              "   'dist': 589653.4657653681,\n",
              "   'weight': 0.09275195246605646},\n",
              "  {'id': '48729A', 'dist': 1086897.2993593875, 'weight': 0.17096795405893805},\n",
              "  {'id': '194FAF', 'dist': 1464349.8042444868, 'weight': 0.2303408888823678},\n",
              "  {'id': 'B61E78', 'dist': 1474210.650656868, 'weight': 0.23189199103103253},\n",
              "  {'id': 'CE876B', 'dist': 1742204.7187532692, 'weight': 0.2740472135616052}],\n",
              " '922079': [{'id': 'BB91DC',\n",
              "   'dist': 1373691.324047196,\n",
              "   'weight': 0.12100377655386864},\n",
              "  {'id': '124F1E', 'dist': 2331833.229724064, 'weight': 0.20540322425500177},\n",
              "  {'id': '71A167', 'dist': 2490916.5701880865, 'weight': 0.2194163323281006},\n",
              "  {'id': 'B23ACD', 'dist': 2496399.247778035, 'weight': 0.21989928266956188},\n",
              "  {'id': '95D5DF', 'dist': 2659626.1641781656, 'weight': 0.23427738419346716}],\n",
              " '54CC01': [{'id': '71A167',\n",
              "   'dist': 1104891.7604758886,\n",
              "   'weight': 0.11375183682632885},\n",
              "  {'id': '124F1E', 'dist': 1701006.0668180508, 'weight': 0.17512354736896857},\n",
              "  {'id': 'EC1DA1', 'dist': 1975498.2527724463, 'weight': 0.20338332037455076},\n",
              "  {'id': 'DE56C4', 'dist': 2341019.933425353, 'weight': 0.24101484597865744},\n",
              "  {'id': 'D4F30B', 'dist': 2590761.2968912777, 'weight': 0.2667264494514944}],\n",
              " 'CCAD3A': [{'id': '5987D6',\n",
              "   'dist': 709047.2359823581,\n",
              "   'weight': 0.08193824610802809},\n",
              "  {'id': '307F32', 'dist': 1300691.7966016112, 'weight': 0.15030931527852084},\n",
              "  {'id': 'C13D34', 'dist': 1644225.020972495, 'weight': 0.1900083768590758},\n",
              "  {'id': '5FD0C1', 'dist': 2217888.613029568, 'weight': 0.2563015463459637},\n",
              "  {'id': '3D997F', 'dist': 2781581.7143200976, 'weight': 0.3214425154084117}]}"
            ]
          },
          "execution_count": 11,
          "metadata": {},
          "output_type": "execute_result"
        }
      ],
      "source": [
        "pm_station_neighbours"
      ]
    },
    {
      "cell_type": "code",
      "execution_count": null,
      "metadata": {
        "id": "D4WgUoNrH0zo"
      },
      "outputs": [],
      "source": []
    }
  ],
  "metadata": {
    "colab": {
      "name": "MatchNodes.ipynb",
      "provenance": []
    },
    "kernelspec": {
      "display_name": "Python 3",
      "name": "python3"
    },
    "language_info": {
      "codemirror_mode": {
        "name": "ipython",
        "version": 3
      },
      "file_extension": ".py",
      "mimetype": "text/x-python",
      "name": "python",
      "nbconvert_exporter": "python",
      "pygments_lexer": "ipython3",
      "version": "3.8.10"
    }
  },
  "nbformat": 4,
  "nbformat_minor": 0
}
