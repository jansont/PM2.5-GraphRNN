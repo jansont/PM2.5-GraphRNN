{
 "cells": [
  {
   "cell_type": "code",
   "execution_count": 1,
   "metadata": {},
   "outputs": [
    {
     "name": "stderr",
     "output_type": "stream",
     "text": [
      "/home/ding/anaconda3/envs/COMP579_project/lib/python3.7/site-packages/IPython/core/interactiveshell.py:3457: DtypeWarning: Columns (0,1,2,3,4,5,6,7,8,9,10,11,12,13,14,15,16,17,18,19,20,21,22,23,24,25,26,27,28,29,30,31,32,33,34,35,36,37,38,39,40,44,46,47,48,49,50,51,52,53,54,55,56,57,58,59,60,61,62,63,64,65,66,67,68,69,70,73,74,75,76,77,78,79,80,81,82,83,84,86,87,88,89,90,94,95,96,97,99,100) have mixed types.Specify dtype option on import or set low_memory=False.\n",
      "  exec(code_obj, self.user_global_ns, self.user_ns)\n"
     ]
    }
   ],
   "source": [
    "import pandas as pd\n",
    "import re\n",
    "import math\n",
    "import numpy as np\n",
    "\n",
    "metadata = pd.read_csv('/mnt/d/airdata/metadata_with_station.csv')\n",
    "df = pd.read_csv('/mnt/d/airdata/noaa_redownload/la_2017_2021_v2.csv')\n",
    "pm = pd.read_csv('/mnt/d/airdata/pm/la_train.csv')\n",
    "\n"
   ]
  },
  {
   "cell_type": "code",
   "execution_count": 3,
   "metadata": {},
   "outputs": [],
   "source": [
    "def clean_weather_data_columns(data, remove_cols):\n",
    "    #TO-DO: Explore what the columns mean and what can be removed, \n",
    "    # and if columns with much missing data are important\n",
    "    '''\n",
    "    Removes irrelevant columns and columns with many missing values\n",
    "    for historical weather dataset. \n",
    "    Args: \n",
    "        data: weather dataframe\n",
    "        remove_cols: columns to remove\n",
    "    Returns: \n",
    "        Cleaned dataframe\n",
    "    '''\n",
    "    data = data.drop(remove_cols, axis = 1)\n",
    "    data = df.dropna(axis=1, thresh=0.7)\n",
    "    return data\n",
    "\n",
    "def convert_to_int(x, err, acceptable_quality):\n",
    "    if str(x) in acceptable_quality:\n",
    "        return acceptable_quality[0]\n",
    "    try:\n",
    "        return float(x)\n",
    "    except ValueError:\n",
    "        return err"
   ]
  },
  {
   "cell_type": "code",
   "execution_count": 4,
   "metadata": {},
   "outputs": [],
   "source": [
    "remove_cols = [ 'SOURCE', 'NAME', 'REPORT_TYPE', 'CALL_SIGN', 'QUALITY_CONTROL']\n",
    "df = clean_weather_data_columns(df, remove_cols)\n",
    "df['DATE'] = pd.to_datetime(df['DATE'])"
   ]
  },
  {
   "cell_type": "code",
   "execution_count": 5,
   "metadata": {},
   "outputs": [],
   "source": [
    "def clean_wind(wnd):\n",
    "    '''\n",
    "    Parses wind data string into relevant fields. Creates new columns in weather dataframe\n",
    "    Removes samples with corrupted wind data, or missing wind data. \n",
    "    'Wind direction: 0-360 degs\n",
    "    'Wind speed: m/s\n",
    "    '''\n",
    "    acceptable_quality = (0,1,4,5,9) #see docs\n",
    "    missing_dir, missing_spd = 999, 9999\n",
    "    direction,quality_dir,_,speed,quality_spd = list(map(lambda x: convert_to_int(x, missing_spd, acceptable_quality), wnd.split(\",\")))\n",
    "    wind_dir = direction\n",
    "    wind_speed = speed\n",
    "    if quality_dir not in acceptable_quality or direction == missing_dir or direction == missing_spd:\n",
    "        wind_dir = np.nan\n",
    "    if quality_spd not in acceptable_quality or speed == missing_spd:\n",
    "        wind_speed  = np.nan\n",
    "    return wind_speed, wind_dir\n",
    "    \n",
    "\n",
    "def clean_ceiling_height_data(ceiling):\n",
    "    '''\n",
    "    The height above ground level (AGL) of the lowest cloud or obscuring\n",
    "    phenomena layer aloft with 5/8 or more summation total sky cover,\n",
    "    which may be predominantly opaque, or the vertical visibility into a\n",
    "    surface-based obstruction. Unlimited = 22000.\n",
    "    height (m) above ground level of lowest cloud (unlimited = 22000)\n",
    "    '''\n",
    "    acceptable_quality = (0,1,4,5,9) #see docs\n",
    "    missing = 99999\n",
    "    height,quality, *rest =  list(map(lambda x: convert_to_int(x, missing, acceptable_quality), ceiling.split(\",\")))\n",
    "    if quality not in acceptable_quality or height == missing:\n",
    "            height = np.nan\n",
    "    return height\n",
    "\n",
    "def clean_visibility_data(vis):\n",
    "    '''The horizontal distance at which an object can be seen and identified. (meters)\n",
    "    '''\n",
    "    acceptable_quality = (0,1,4,5,9) #see docs\n",
    "    missing = 99999\n",
    "    height,quality, *rest = list(map(lambda x: convert_to_int(x, missing, acceptable_quality), vis.split(\",\")))\n",
    "    if quality not in acceptable_quality or height == missing:\n",
    "            height = np.nan\n",
    "    return height\n",
    "\n",
    "def clean_temperature_data(tmp): \n",
    "    '''Air Temperature data in C'''\n",
    "    missing = 9999\n",
    "    acceptable_quality = (0,1,4,5,9,'C','I','M','P','R','U') #see docs\n",
    "    temperature,quality = list(map(lambda x: convert_to_int(x, missing, acceptable_quality), tmp.split(\",\")))\n",
    "    if quality not in acceptable_quality or temperature == missing:\n",
    "        temperature = np.nan\n",
    "    return temperature/10\n",
    "\n",
    "def clean_pressure_data(pressure): \n",
    "    '''The air pressure relative to Mean Sea Level (MSL).\n",
    "    (Hectopascals)'''\n",
    "    missing = 99999\n",
    "    acceptable_quality = (0,1,4,5,9) #see docs\n",
    "    pressure,quality = list(map(lambda x: convert_to_int(x, missing, acceptable_quality), pressure.split(\",\")))\n",
    "    if quality not in acceptable_quality or pressure == missing:\n",
    "        pressure = np.nan\n",
    "    return pressure\n",
    "\n",
    "def clean_dew_point_data(dew): \n",
    "    '''The temperature to which a given parcel of air must be cooled\n",
    "     at constant pressure and water vapor content in order for saturation to occur. (C)'''\n",
    "    missing = 9999\n",
    "    acceptable_quality = (0,1,4,5,9,'C','I','M','P','R','U') #see docs\n",
    "    dp,quality = list(map(lambda x: convert_to_int(x, missing, acceptable_quality), dew.split(\",\")))\n",
    "    if quality not in acceptable_quality or dp == missing:\n",
    "        dp = np.nan\n",
    "    return dp\n",
    "\n",
    "def clean_precipitation_data(rain): \n",
    "    '''episode of LIQUID-PRECIPITATION.\n",
    "    - The quantity of time over which the LIQUID-PRECIPITATION was measured. (hours)\n",
    "    - The depth of LIQUID-PRECIPITATION that is measured at the time of an observation. (mm)\n",
    "    Note that there data contains AA1-AA3 fields for multiple precipitation events\n",
    "    98% of samples do not have more than 1 event (AA2-AA4 are 98% nan), so these are ignored \n",
    "    TO-DO: Check above statement on total dataste\n",
    "    To-DO: how to deal with nan data (no rain event)\n",
    "    '''\n",
    "    times, depths, to_drop = [], [], []\n",
    "    missing_depth, missing_time = 9999, 99\n",
    "    acceptable_quality = ('0','1','4','5','9','C','I','M','P','R','U') #see docs\n",
    "    if type(rain) == float:\n",
    "        return np.nan, np.nan\n",
    "    time,depth,_,quality = list(map(lambda x: convert_to_int(x, missing_depth, acceptable_quality), rain.split(\",\")))\n",
    "    if quality not in acceptable_quality:\n",
    "        depth = time = np.nan\n",
    "    if depth == missing_depth or time == missing_time:\n",
    "        depth = np.nan\n",
    "    if time == missing_time or time == missing_depth:\n",
    "        time = np.nan\n",
    "    return time, depth\n",
    "\n",
    "\n",
    "def clean(df):\n",
    "    wind_speed, wind_dir = clean_wind(df['WND'])\n",
    "    height = clean_ceiling_height_data(df['CIG'])\n",
    "    vis = clean_visibility_data(df['VIS'])\n",
    "    temperature = clean_temperature_data(df['TMP'])\n",
    "    presssure = clean_pressure_data(df['SLP'])\n",
    "    dew = clean_dew_point_data(df['DEW'])\n",
    "    time, depth = clean_precipitation_data(df['AA1'])\n",
    "    \n",
    "    return wind_speed, wind_dir,height,vis,temperature,presssure,dew,time, depth\n",
    "    \n",
    "    \n",
    "df[['wind_speed','wind_dir', 'ceiling', 'visibility', 'temperature', 'pressure', 'dew', 'duration', 'depth']] = df.apply(clean, axis=1, result_type ='expand')"
   ]
  },
  {
   "cell_type": "code",
   "execution_count": 6,
   "metadata": {},
   "outputs": [],
   "source": [
    "cleaned_df = df[[\"STATION\", \"DATE\", \"LATITUDE\", \"LONGITUDE\", \"ELEVATION\", 'wind_speed','wind_dir', 'ceiling', 'visibility', 'temperature', 'pressure', 'dew', 'duration', 'depth']].copy()"
   ]
  },
  {
   "cell_type": "code",
   "execution_count": 7,
   "metadata": {},
   "outputs": [],
   "source": [
    "def average_wind_vector(speed, direction):\n",
    "    '''\n",
    "    Args: \n",
    "        wind_data: dataframe with wind direction and speed cols\n",
    "    Returns: \n",
    "        tuple of mean x,y wind vectors\n",
    "    '''\n",
    "    #data is calibrated to north as 0 deg ?\n",
    "    # wind_direction += 90\n",
    "    # np.cos(dir + 90) * speed\n",
    "    x_vect = np.cos(90 - direction) * direction\n",
    "    y_vect = np.sin(90 - direction) * direction\n",
    "    return np.nanmean(x_vect), np.nanmean(y_vect)\n",
    "\n",
    "\n",
    "    \n",
    "def average_cloud_height(cloud_height):\n",
    "    sigmoid = lambda x: 1 / (1 + np.exp(-x))\n",
    "    sigmoid = np.vectorize(sigmoid)\n",
    "    cloud_height = sigmoid(cloud_height)\n",
    "    height = np.nanmean(cloud_height)\n",
    "    return height\n"
   ]
  },
  {
   "cell_type": "code",
   "execution_count": 8,
   "metadata": {},
   "outputs": [
    {
     "name": "stderr",
     "output_type": "stream",
     "text": [
      "/home/ding/anaconda3/envs/COMP579_project/lib/python3.7/site-packages/ipykernel_launcher.py:8: RuntimeWarning: Mean of empty slice\n",
      "  \n",
      "/home/ding/anaconda3/envs/COMP579_project/lib/python3.7/site-packages/ipykernel_launcher.py:10: RuntimeWarning: Mean of empty slice\n",
      "  # Remove the CWD from sys.path while we load stuff.\n",
      "/home/ding/anaconda3/envs/COMP579_project/lib/python3.7/site-packages/ipykernel_launcher.py:11: RuntimeWarning: Mean of empty slice\n",
      "  # This is added back by InteractiveShellApp.init_path()\n",
      "/home/ding/anaconda3/envs/COMP579_project/lib/python3.7/site-packages/ipykernel_launcher.py:7: RuntimeWarning: Mean of empty slice\n",
      "  import sys\n",
      "/home/ding/anaconda3/envs/COMP579_project/lib/python3.7/site-packages/ipykernel_launcher.py:9: RuntimeWarning: Mean of empty slice\n",
      "  if __name__ == '__main__':\n",
      "/home/ding/anaconda3/envs/COMP579_project/lib/python3.7/site-packages/ipykernel_launcher.py:13: RuntimeWarning: Mean of empty slice\n",
      "  del sys.path[0]\n",
      "/home/ding/anaconda3/envs/COMP579_project/lib/python3.7/site-packages/ipykernel_launcher.py:5: RuntimeWarning: Mean of empty slice\n",
      "  \"\"\"\n",
      "/home/ding/anaconda3/envs/COMP579_project/lib/python3.7/site-packages/ipykernel_launcher.py:6: RuntimeWarning: Mean of empty slice\n",
      "  \n"
     ]
    }
   ],
   "source": [
    "def group_fnc(df):\n",
    "    wind_x, wind_y = average_wind_vector(df['wind_speed'], df['wind_dir'])\n",
    "    return pd.Series({\n",
    "        \"wind_x\": wind_x, \"wind_y\":wind_y,\n",
    "        \"ceiling\": np.nanmean(df[\"ceiling\"]),\n",
    "        \"visibility\": np.nanmean(df[\"visibility\"]),\n",
    "        \"temperature\": np.nanmean(df['temperature']),\n",
    "        \"pressure\": np.nanmean(df['pressure']),\n",
    "        \"dew\": np.nanmean(df['dew']),\n",
    "        \"precipitation_duration\": np.nanmean(df['duration']),\n",
    "        \"precipitation_depth\": np.nanmean(df['depth']),\n",
    "        \"latitude\": df['LATITUDE'].iloc[0],\n",
    "        'longtitude': df['LONGITUDE'].iloc[0],\n",
    "    }) \n",
    "\n",
    "grouped_df = cleaned_df.groupby(['STATION', df['DATE'].dt.date]).apply(group_fnc).reset_index(drop=False)\n",
    "grouped_df['DATE'] = pd.to_datetime(grouped_df['DATE'])"
   ]
  },
  {
   "cell_type": "code",
   "execution_count": null,
   "metadata": {},
   "outputs": [],
   "source": [
    "grouped_df.to_csv('/mnt/d/airdata/noaa_redownload/la_weather_all_station_per_day.csv', index=False)"
   ]
  },
  {
   "cell_type": "markdown",
   "metadata": {},
   "source": [
    "merge the pm dataset with the weather dataset"
   ]
  },
  {
   "cell_type": "code",
   "execution_count": null,
   "metadata": {},
   "outputs": [],
   "source": [
    "pm_values = pm.merge(metadata, on='grid_id')[['STATION','day', 'pm25', 'mean_aod','min_aod','max_aod']]\n",
    "pm_values['day'] = pd.to_datetime(pm_values['day'])\n",
    "pm_values.rename(columns={'day':\"DATE\"}, inplace=True)\n"
   ]
  },
  {
   "cell_type": "code",
   "execution_count": 13,
   "metadata": {},
   "outputs": [],
   "source": [
    "weather_with_pm = grouped_df.merge(pm_values, on=['STATION', 'DATE'])"
   ]
  },
  {
   "cell_type": "code",
   "execution_count": 14,
   "metadata": {},
   "outputs": [],
   "source": [
    "weather_with_pm.merge(metadata, on='STATION').to_csv('/mnt/d/airdata/noaa_redownload/la_pm_per_day.csv', index=False)"
   ]
  },
  {
   "cell_type": "code",
   "execution_count": 1,
   "metadata": {},
   "outputs": [
    {
     "name": "stderr",
     "output_type": "stream",
     "text": [
      "/home/ding/anaconda3/lib/python3.7/site-packages/IPython/core/interactiveshell.py:2785: DtypeWarning: Columns (0,1,2,3,4,5,6,7,8,9,10,11,12,13,14,15,16,17,18,19,20,21,22,23,24,25,26,27,28,29,30,31,32,33,34,35,36,37,38,39,40,44,46,47,48,49,50,51,52,53,54,55,56,57,58,59,60,61,62,63,64,65,66,67,68,69,70,73,74,75,76,77,78,79,80,81,82,83,84,86,87,88,89,90,94,95,96,97,99,100) have mixed types. Specify dtype option on import or set low_memory=False.\n",
      "  interactivity=interactivity, compiler=compiler, result=result)\n"
     ]
    }
   ],
   "source": [
    "import pandas as pd\n",
    "import re\n",
    "import math\n",
    "import numpy as np\n",
    "\n",
    "df = pd.read_csv('/mnt/d/airdata/noaa_redownload/la_2017_2021_v2.csv')\n",
    "\n"
   ]
  },
  {
   "cell_type": "code",
   "execution_count": 4,
   "metadata": {},
   "outputs": [],
   "source": [
    "df['DATE'] = pd.to_datetime(df['DATE'])\n",
    "df['DATE'] = df['DATE'].dt.date"
   ]
  },
  {
   "cell_type": "code",
   "execution_count": 29,
   "metadata": {},
   "outputs": [
    {
     "data": {
      "text/plain": [
       "STATION\n",
       "72295023174    1826\n",
       "72391093111    1826\n",
       "72288593197    1826\n",
       "72288023152    1826\n",
       "72295503174    1826\n",
       "72295603167    1826\n",
       "72297023129    1826\n",
       "72297603166    1826\n",
       "72288623130    1826\n",
       "72297793184    1826\n",
       "72392623136    1826\n",
       "72287493134    1826\n",
       "74704003102    1826\n",
       "72286903171    1826\n",
       "72286893138    1826\n",
       "72286023119    1826\n",
       "72033353175    1826\n",
       "72289903179    1826\n",
       "72286699999    1825\n",
       "72297553141    1823\n",
       "72292023191    1823\n",
       "72292603154    1822\n",
       "A0685400115    1816\n",
       "74704303165    1816\n",
       "99402899999    1815\n",
       "99403599999    1812\n",
       "74505753130    1811\n",
       "72288703180    1802\n",
       "72095299999    1566\n",
       "72032999999    1305\n",
       "99999923122    1235\n",
       "72292800369    1138\n",
       "72068799999     765\n",
       "99999923122     587\n",
       "72032999999     174\n",
       "Name: DATE, dtype: int64"
      ]
     },
     "execution_count": 29,
     "metadata": {},
     "output_type": "execute_result"
    }
   ],
   "source": [
    "df.groupby(['STATION'])['DATE'].nunique().sort_values(ascending=False)"
   ]
  },
  {
   "cell_type": "code",
   "execution_count": null,
   "metadata": {},
   "outputs": [],
   "source": [
    "train_labels = pd.read_csv('/mnt/d/airdata/train_labels.csv')\n",
    "train_labels"
   ]
  },
  {
   "cell_type": "code",
   "execution_count": 34,
   "metadata": {},
   "outputs": [],
   "source": [
    "train_labels['datetime'] = pd.to_datetime(train_labels['datetime'])"
   ]
  },
  {
   "cell_type": "code",
   "execution_count": 35,
   "metadata": {},
   "outputs": [
    {
     "data": {
      "text/plain": [
       "grid_id\n",
       "3S31A    1047\n",
       "PG3MI    1042\n",
       "E5P9N    1040\n",
       "ZZ8JF    1038\n",
       "A2FBI    1036\n",
       "QJHW4    1036\n",
       "ZP1FZ    1035\n",
       "WT52R    1034\n",
       "H96P6    1034\n",
       "DJN0F    1024\n",
       "1X116     735\n",
       "VR4WG     735\n",
       "XJF9O     735\n",
       "KW43U     735\n",
       "9Q6TA     735\n",
       "XNLVD     733\n",
       "90BZ1     730\n",
       "P8JA5     713\n",
       "A7UCQ     709\n",
       "90S79     684\n",
       "HM74A     675\n",
       "6EIL6     660\n",
       "YHOPV     648\n",
       "GVQXS     642\n",
       "8KNI6     639\n",
       "AZJ0Z     625\n",
       "S77YN     618\n",
       "D72OT     616\n",
       "NE7BV     609\n",
       "VYH7U     606\n",
       "D7S1G     569\n",
       "1Z2W7     569\n",
       "KZ9W9     568\n",
       "GAC6R     565\n",
       "GJLB2     565\n",
       "E2AUK     565\n",
       "HANW9     556\n",
       "CPR0W     545\n",
       "IUMEZ     537\n",
       "UC74Z     528\n",
       "VXNN3     527\n",
       "7334C     525\n",
       "SZLMT     520\n",
       "PW0JT     520\n",
       "78V83     510\n",
       "C7PGV     509\n",
       "ZF3ZW     504\n",
       "DHO4M     360\n",
       "VBLD0     180\n",
       "PJNW1     150\n",
       "WZNCR     130\n",
       "7F1D1     124\n",
       "FRITQ     123\n",
       "X5DKW     115\n",
       "Name: datetime, dtype: int64"
      ]
     },
     "execution_count": 35,
     "metadata": {},
     "output_type": "execute_result"
    }
   ],
   "source": [
    "train_labels.groupby(['grid_id'])['datetime'].nunique().sort_values(ascending=False)"
   ]
  },
  {
   "cell_type": "code",
   "execution_count": null,
   "metadata": {},
   "outputs": [],
   "source": []
  }
 ],
 "metadata": {
  "interpreter": {
   "hash": "e7370f93d1d0cde622a1f8e1c04877d8463912d04d973331ad4851f04de6915a"
  },
  "kernelspec": {
   "display_name": "Python 3.8.10 64-bit",
   "language": "python",
   "name": "python3"
  },
  "language_info": {
   "codemirror_mode": {
    "name": "ipython",
    "version": 3
   },
   "file_extension": ".py",
   "mimetype": "text/x-python",
   "name": "python",
   "nbconvert_exporter": "python",
   "pygments_lexer": "ipython3",
   "version": "3.7.11"
  },
  "orig_nbformat": 4
 },
 "nbformat": 4,
 "nbformat_minor": 2
}
